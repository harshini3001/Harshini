{
 "cells": [
  {
   "cell_type": "code",
   "execution_count": 16,
   "id": "fbcd1803",
   "metadata": {},
   "outputs": [
    {
     "name": "stdout",
     "output_type": "stream",
     "text": [
      "{'A': ['B', 'C'], 'B': ['A', 'D'], 'C': ['A'], 'D': ['B']}\n"
     ]
    }
   ],
   "source": [
    "#Add eages\n",
    "def add_edge(graph, u, v):\n",
    "    if u not in graph:\n",
    "        graph [u] = []\n",
    "    if v not in graph:\n",
    "        graph[v] = []\n",
    "    graph[u].append(v)\n",
    "    graph[v].append(u) # remove if graph is directec\n",
    "graph = {}\n",
    "add_edge(graph, 'A', 'B')\n",
    "add_edge(graph, 'A', 'C')\n",
    "add_edge(graph, 'B', 'D')\n",
    "print(graph)"
   ]
  },
  {
   "cell_type": "code",
   "execution_count": 17,
   "id": "51ec0d6f",
   "metadata": {},
   "outputs": [
    {
     "name": "stdout",
     "output_type": "stream",
     "text": [
      "4\n"
     ]
    }
   ],
   "source": [
    "#Count Nodes in a Graph using DFS\n",
    "def count_nodes (graph, start, visited=None):\n",
    "    if visited is None:\n",
    "        visited = set()\n",
    "    visited.add(start)\n",
    "    count = 1\n",
    "    for neighbor in graph [start]:\n",
    "        if neighbor not in visited:\n",
    "            count += count_nodes (graph, neighbor, visited)\n",
    "    return count\n",
    "# Test\n",
    "graph = {\n",
    "'A': ['B', 'C'],\n",
    "'B': ['D'],\n",
    "'C': [],\n",
    "'D': []\n",
    "}\n",
    "print(count_nodes(graph,'A'))"
   ]
  },
  {
   "cell_type": "code",
   "execution_count": 18,
   "id": "78f19bf6",
   "metadata": {},
   "outputs": [
    {
     "ename": "NameError",
     "evalue": "name 'has_path' is not defined",
     "output_type": "error",
     "traceback": [
      "\u001b[1;31m---------------------------------------------------------------------------\u001b[0m",
      "\u001b[1;31mNameError\u001b[0m                                 Traceback (most recent call last)",
      "Input \u001b[1;32mIn [18]\u001b[0m, in \u001b[0;36m<cell line: 18>\u001b[1;34m()\u001b[0m\n\u001b[0;32m     11\u001b[0m    \u001b[38;5;28;01mreturn\u001b[39;00m \u001b[38;5;28;01mFalse\u001b[39;00m\n\u001b[0;32m     12\u001b[0m graph \u001b[38;5;241m=\u001b[39m {\n\u001b[0;32m     13\u001b[0m        \u001b[38;5;124m'\u001b[39m\u001b[38;5;124mA\u001b[39m\u001b[38;5;124m'\u001b[39m: [\u001b[38;5;124m'\u001b[39m\u001b[38;5;124mB\u001b[39m\u001b[38;5;124m'\u001b[39m],\n\u001b[0;32m     14\u001b[0m        \u001b[38;5;124m'\u001b[39m\u001b[38;5;124mB\u001b[39m\u001b[38;5;124m'\u001b[39m: [\u001b[38;5;124m'\u001b[39m\u001b[38;5;124mC\u001b[39m\u001b[38;5;124m'\u001b[39m],\n\u001b[0;32m     15\u001b[0m        \u001b[38;5;124m'\u001b[39m\u001b[38;5;124mC\u001b[39m\u001b[38;5;124m'\u001b[39m: [],\n\u001b[0;32m     16\u001b[0m        \u001b[38;5;124m'\u001b[39m\u001b[38;5;124mD\u001b[39m\u001b[38;5;124m'\u001b[39m: []\n\u001b[0;32m     17\u001b[0m }\n\u001b[1;32m---> 18\u001b[0m \u001b[38;5;28mprint\u001b[39m(\u001b[43mhash_path\u001b[49m\u001b[43m(\u001b[49m\u001b[43mgraph\u001b[49m\u001b[43m,\u001b[49m\u001b[38;5;124;43m'\u001b[39;49m\u001b[38;5;124;43mA\u001b[39;49m\u001b[38;5;124;43m'\u001b[39;49m\u001b[43m,\u001b[49m\u001b[38;5;124;43m'\u001b[39;49m\u001b[38;5;124;43mC\u001b[39;49m\u001b[38;5;124;43m'\u001b[39;49m\u001b[43m)\u001b[49m)\n\u001b[0;32m     19\u001b[0m \u001b[38;5;28mprint\u001b[39m(hash_path(graph,\u001b[38;5;124m'\u001b[39m\u001b[38;5;124mA\u001b[39m\u001b[38;5;124m'\u001b[39m,\u001b[38;5;124m'\u001b[39m\u001b[38;5;124mD\u001b[39m\u001b[38;5;124m'\u001b[39m))\n",
      "Input \u001b[1;32mIn [18]\u001b[0m, in \u001b[0;36mhash_path\u001b[1;34m(graph, src, dst, visited)\u001b[0m\n\u001b[0;32m      7\u001b[0m \u001b[38;5;28;01mfor\u001b[39;00m neighbor \u001b[38;5;129;01min\u001b[39;00m graph [src]:\n\u001b[0;32m      8\u001b[0m      \u001b[38;5;28;01mif\u001b[39;00m neighbor \u001b[38;5;129;01mnot\u001b[39;00m \u001b[38;5;129;01min\u001b[39;00m visited:\n\u001b[1;32m----> 9\u001b[0m         \u001b[38;5;28;01mif\u001b[39;00m \u001b[43mhas_path\u001b[49m (graph, neighbor, dst, visited):\n\u001b[0;32m     10\u001b[0m            \u001b[38;5;28;01mreturn\u001b[39;00m \u001b[38;5;28;01mTrue\u001b[39;00m\n\u001b[0;32m     11\u001b[0m \u001b[38;5;28;01mreturn\u001b[39;00m \u001b[38;5;28;01mFalse\u001b[39;00m\n",
      "\u001b[1;31mNameError\u001b[0m: name 'has_path' is not defined"
     ]
    }
   ],
   "source": [
    "def hash_path(graph, src, dst, visited=None):\n",
    "   if visited is None:\n",
    "      visited = set()\n",
    "   if src == dst:\n",
    "       return True\n",
    "   visited.add(src)\n",
    "   for neighbor in graph [src]:\n",
    "        if neighbor not in visited:\n",
    "           if has_path (graph, neighbor, dst, visited):\n",
    "              return True\n",
    "   return False\n",
    "graph = {\n",
    "       'A': ['B'],\n",
    "       'B': ['C'],\n",
    "       'C': [],\n",
    "       'D': []\n",
    "}\n",
    "print(hash_path(graph,'A','C'))\n",
    "print(hash_path(graph,'A','D'))"
   ]
  },
  {
   "cell_type": "code",
   "execution_count": null,
   "id": "fae11038",
   "metadata": {},
   "outputs": [
    {
     "name": "stdout",
     "output_type": "stream",
     "text": [
      "3\n"
     ]
    }
   ],
   "source": [
    "# climbing a stairs\n",
    "# method 1:recursion (slow)\n",
    "def climb(n):\n",
    "    if n<=1:\n",
    "        return 1\n",
    "    return climb(n-1)+climb(n-2)\n",
    "print(climb(3))"
   ]
  },
  {
   "cell_type": "code",
   "execution_count": null,
   "id": "162f645a",
   "metadata": {},
   "outputs": [
    {
     "name": "stdout",
     "output_type": "stream",
     "text": [
      "8\n"
     ]
    }
   ],
   "source": [
    "#method - 2: memoization(fast) - top down\n",
    "memo = {}\n",
    "def climb(n):\n",
    "    if n <= 1:\n",
    "        return 1\n",
    "    if n in memo:\n",
    "        return memo[n]\n",
    "    memo[n] = climb(n-1) + climb(n-2)\n",
    "    return memo[n]\n",
    "print(climb(5)) "
   ]
  },
  {
   "cell_type": "code",
   "execution_count": null,
   "id": "0ba32942",
   "metadata": {},
   "outputs": [
    {
     "name": "stdout",
     "output_type": "stream",
     "text": [
      "[1, 1, 2, 3, 5, 8]\n"
     ]
    }
   ],
   "source": [
    "# Method 3: Tabulation (bottom-up)\n",
    "def climb(n):\n",
    "    if n<=2:\n",
    "        return n\n",
    "    dp = [0] * (n + 1)  #sep - 1 [#creat a table of size n+1]\n",
    "    dp[0] = dp[1] = 1   # fill base case\n",
    "    for i in range(2, n + 1):\n",
    "        dp[i] = dp[i - 1] + dp[i - 2]\n",
    "    return dp\n",
    "\n",
    "print(climb(5))\n"
   ]
  },
  {
   "cell_type": "code",
   "execution_count": null,
   "id": "10f6d59c",
   "metadata": {},
   "outputs": [
    {
     "name": "stdout",
     "output_type": "stream",
     "text": [
      "[0, 1, 1, 2, 3, 5]\n",
      "[0, 1, 1, 2, 3, 5, 8, 13]\n"
     ]
    }
   ],
   "source": [
    "def fibonacci(n):\n",
    "    if n <= 1:\n",
    "        return n\n",
    "    dp = [0] * (n + 1)\n",
    "    dp[0] = 0\n",
    "    dp[1] = 1\n",
    "    for i in range(2, n + 1):\n",
    "        dp[i] = dp[i-1] + dp[i-2]  \n",
    "    return dp\n",
    "print(fibonacci(5)) \n",
    "print(fibonacci(7))"
   ]
  },
  {
   "cell_type": "code",
   "execution_count": null,
   "id": "67ab5e1e",
   "metadata": {},
   "outputs": [
    {
     "data": {
      "text/plain": [
       "2"
      ]
     },
     "execution_count": 11,
     "metadata": {},
     "output_type": "execute_result"
    }
   ],
   "source": [
    "#You're trying to pay exactly n rupees using the least number of coins. Coins available: [1, 3, 4]\n",
    "# What's the minimum number of coins needed?\n",
    "#recursive approach \n",
    "def minCoins(coins, amount):\n",
    "    if amount == 0:\n",
    "        return 0\n",
    "    res = float('inf')\n",
    "    for coin in coins:\n",
    "        if amount - coin >= 0:\n",
    "            res = min(res, minCoins(coins, amount - coin) + 1)\n",
    "    return res\n",
    "minCoins([1,2,3],6)"
   ]
  },
  {
   "cell_type": "code",
   "execution_count": null,
   "id": "f8c4a930",
   "metadata": {},
   "outputs": [
    {
     "name": "stdout",
     "output_type": "stream",
     "text": [
      "2\n"
     ]
    }
   ],
   "source": [
    "#tabulation - bottom up approach\n",
    "def minCoins(coins, amount):\n",
    "    dp = [float('inf')] * (amount + 1) # [0] * [n+1] - creation of as table size of n+1\n",
    "    dp[0] = 0\n",
    "    for x in range(1, amount + 1):\n",
    "        for coin in coins:\n",
    "            if x - coin >= 0:\n",
    "                dp[x] = min(dp[x], dp[x - coin] + 1)\n",
    "    return dp[amount] if dp[amount] != float('inf') else -1\n",
    "\n",
    "print(minCoins([1,3,4],6))"
   ]
  },
  {
   "cell_type": "code",
   "execution_count": null,
   "id": "5001eba7",
   "metadata": {},
   "outputs": [
    {
     "data": {
      "text/plain": [
       "7"
      ]
     },
     "execution_count": 17,
     "metadata": {},
     "output_type": "execute_result"
    }
   ],
   "source": [
    "#You're robbing houses on a street. Each house has some money.\n",
    "#If you rob two next to each other, police catch you.\n",
    "#You need maximum total money without robbing two side-by-side houses.\n",
    "def rob(nums, i=0):\n",
    "    if i >= len(nums):\n",
    "        return 0\n",
    "    return max(rob(nums, i + 1), nums[i] + rob(nums, i + 2))\n",
    "rob([2,1,4,5])\n",
    "#[i=]\n",
    "\n"
   ]
  },
  {
   "cell_type": "code",
   "execution_count": null,
   "id": "ba387ff0",
   "metadata": {},
   "outputs": [],
   "source": [
    "#prism algorithm\n",
    "# # starts with any node \n",
    "# pick the smallest element that connects with the edges\n",
    "# repeat the steps again until all noodes are visited"
   ]
  },
  {
   "cell_type": "code",
   "execution_count": null,
   "id": "87430c4c",
   "metadata": {},
   "outputs": [],
   "source": [
    "# pris\"s algorithm\n",
    "def prims(graph, start):\n",
    "    visited = set([start])\n",
    "    total_cost = 0\n",
    "    while len(visited) < len(graph):\n",
    "        edge = None\n",
    "        min_w = float('inf')\n",
    "        for u in visited:\n",
    "            for v,w in graph[u]:\n",
    "                if v not in visited and w< min_w:\n",
    "                    min_w = w\n",
    "                    edge = (u,v)\n",
    "        total_cost += min_w\n",
    "        visited.add(edge[1])\n",
    "    return total_cost\n",
    "graph = {\n",
    "      'A' : [('B',1),('C',8)],\n",
    "      'B' : [('A',1),('C',9),('D',3)],\n",
    "      'C' : [('A',5),('B',1),('D',1)],\n",
    "      'D' : [('B',3),('C',9)]\n",
    "}\n",
    "print(\"prim's MST cost:\",prims(graph,'A'))\n",
    "                \n"
   ]
  },
  {
   "cell_type": "code",
   "execution_count": 19,
   "id": "e4a72e37",
   "metadata": {},
   "outputs": [
    {
     "name": "stdout",
     "output_type": "stream",
     "text": [
      "prim's MST cost: 7\n"
     ]
    }
   ],
   "source": [
    "# pris\"s algorithm\n",
    "def prims(graph, start):\n",
    "    visited = set([start])\n",
    "    total_cost = 0\n",
    "    while len(visited) < len(graph):\n",
    "        edge = None\n",
    "        min_w = float('inf')\n",
    "        for u in visited:\n",
    "            for v,w in graph[u]:\n",
    "                if v not in visited and w< min_w:\n",
    "                    min_w = w\n",
    "                    edge = (u,v)\n",
    "        total_cost += min_w\n",
    "        visited.add(edge[1])\n",
    "    return total_cost\n",
    "graph = {\n",
    "      'A' : [('B',1),('C',3)],\n",
    "      'B' : [('A',1),('C',2),('D',4)],\n",
    "      'C' : [('A',3),('B',2),('D',5)],\n",
    "      'D' : [('B',4),('C',5)]\n",
    "}\n",
    "print(\"prim's MST cost:\",prims(graph,'A'))\n",
    "                \n",
    "\n"
   ]
  },
  {
   "cell_type": "code",
   "execution_count": null,
   "id": "34e08561",
   "metadata": {},
   "outputs": [],
   "source": [
    "# krushkal's algorithm\n",
    "# starts with any node\n",
    "# sort edges by cost\n",
    "# idt dont from a loop or cycle\n",
    "# if it is from a poop or cycle then ingnore the edge\n"
   ]
  }
 ],
 "metadata": {
  "kernelspec": {
   "display_name": "base",
   "language": "python",
   "name": "python3"
  },
  "language_info": {
   "codemirror_mode": {
    "name": "ipython",
    "version": 3
   },
   "file_extension": ".py",
   "mimetype": "text/x-python",
   "name": "python",
   "nbconvert_exporter": "python",
   "pygments_lexer": "ipython3",
   "version": "3.9.12"
  }
 },
 "nbformat": 4,
 "nbformat_minor": 5
}
