{
 "cells": [
  {
   "cell_type": "code",
   "execution_count": null,
   "id": "83454e8b",
   "metadata": {},
   "outputs": [],
   "source": [
    "#encapusulation\n",
    "class person():\n",
    "    def __init__(self,name,age):\n",
    "       self.name= \"dharsh\"\n",
    "       self.__age = age\n",
    "    def display(self):\n",
    "        print(f\"the name is{self.name}andthe age is {self.__age}\")\n",
    "    def setter(self,new_age):\n",
    "        if new_age < 0:\n",
    "            self.__age=new_age\n",
    "    def getter(self):\n",
    "        return self.__age\n",
    "p1 = person(\"harsh\",19)\n",
    "p1.getter()\n",
    "p1.setter(18)\n",
    "p1.getter()\n",
    "p1.display()\n",
    "\n"
   ]
  },
  {
   "cell_type": "code",
   "execution_count": null,
   "id": "99860a06",
   "metadata": {},
   "outputs": [],
   "source": [
    "class Animal():\n",
    "    def sound(self):\n",
    "        print(\"All animals giving sound\")\n",
    "class dog(Animal):\n",
    "    def sound(self):   \n",
    "        print(\"dog is barking\")\n",
    "class cat(Animal):\n",
    "    def sound(self):    \n",
    "        print(\"cat is meow\")   \n",
    "class donkey(Animal):\n",
    "    def sound(self):    \n",
    "        print(\"donkey is hee_hae\")       \n",
    "a1=Animal()\n",
    "d1=dog()\n",
    "c1=cat()\n",
    "d2=donkey()\n",
    "a1.sound()\n",
    "d1.sound()\n",
    "c1.sound()\n",
    "d2.sound()\n"
   ]
  },
  {
   "cell_type": "code",
   "execution_count": null,
   "id": "200f8381",
   "metadata": {},
   "outputs": [],
   "source": [
    "#polymorphism\n",
    "class vechicle():\n",
    "    def driving (self):\n",
    "        print(\"we can drive any vechicle\")\n",
    "class car():\n",
    "    def driving(self):\n",
    "        print(\"i can driving\")\n",
    "class bike():\n",
    "    def driving(self):\n",
    "        print(\" iam going to chenai\")\n",
    "v1=[vechicle(),car(),bike()]\n",
    "for i in v1:\n",
    "    i.driving()\n",
    "\n",
    "        "
   ]
  }
 ],
 "metadata": {
  "language_info": {
   "name": "python"
  }
 },
 "nbformat": 4,
 "nbformat_minor": 5
}
